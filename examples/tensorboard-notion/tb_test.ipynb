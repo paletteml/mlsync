{
 "cells": [
  {
   "cell_type": "code",
   "execution_count": 30,
   "metadata": {},
   "outputs": [
    {
     "name": "stdout",
     "output_type": "stream",
     "text": [
      "The tensorboard extension is already loaded. To reload it, use:\n",
      "  %reload_ext tensorboard\n"
     ]
    }
   ],
   "source": [
    "# Load the TensorBoard notebook extension\n",
    "%load_ext tensorboard\n",
    "\n",
    "# Clear any logs from previous runs\n",
    "%rm -rf ./logs/"
   ]
  },
  {
   "cell_type": "code",
   "execution_count": 31,
   "metadata": {},
   "outputs": [],
   "source": [
    "import tensorflow as tf\n",
    "from tensorboard.plugins.hparams import api as hp"
   ]
  },
  {
   "cell_type": "code",
   "execution_count": 32,
   "metadata": {},
   "outputs": [],
   "source": [
    "fashion_mnist = tf.keras.datasets.fashion_mnist\n",
    "\n",
    "(x_train, y_train),(x_test, y_test) = fashion_mnist.load_data()\n",
    "x_train, x_test = x_train / 255.0, x_test / 255.0"
   ]
  },
  {
   "cell_type": "code",
   "execution_count": 33,
   "metadata": {},
   "outputs": [],
   "source": [
    "HP_NUM_UNITS = hp.HParam('num_units', hp.Discrete([16, 32]))\n",
    "HP_DROPOUT = hp.HParam('dropout', hp.RealInterval(0.1, 0.2))\n",
    "HP_LEARNING_RATE = hp.HParam('learning_rate', hp.Discrete([0.001, 0.0005, 0.0001]))\n",
    "HP_OPTIMIZER = hp.HParam('optimizer', hp.Discrete(['adam', 'sgd']))\n",
    "\n",
    "METRIC_ACCURACY = 'accuracy'\n",
    "\n",
    "with tf.summary.create_file_writer('logs/hparam_tuning').as_default():\n",
    "  hp.hparams_config(\n",
    "    hparams=[HP_NUM_UNITS, HP_DROPOUT, HP_LEARNING_RATE, HP_OPTIMIZER],\n",
    "    metrics=[hp.Metric(METRIC_ACCURACY, display_name='Accuracy')],\n",
    "  )"
   ]
  },
  {
   "cell_type": "code",
   "execution_count": 34,
   "metadata": {},
   "outputs": [],
   "source": [
    "def train_test_model(hparams):\n",
    "  model = tf.keras.models.Sequential([\n",
    "    tf.keras.layers.Flatten(),\n",
    "    tf.keras.layers.Dense(hparams[HP_NUM_UNITS], activation=tf.nn.relu),\n",
    "    tf.keras.layers.Dropout(hparams[HP_DROPOUT]),\n",
    "    tf.keras.layers.Dense(10, activation=tf.nn.softmax),\n",
    "  ])\n",
    "  model.compile(\n",
    "      optimizer=hparams[HP_OPTIMIZER],\n",
    "      loss='sparse_categorical_crossentropy',\n",
    "      metrics=['accuracy'],\n",
    "  )\n",
    "\n",
    "  model.fit(x_train, y_train, epochs=1) # Run with 1 epoch to speed things up for demo purposes\n",
    "  _, accuracy = model.evaluate(x_test, y_test)\n",
    "  return accuracy"
   ]
  },
  {
   "cell_type": "code",
   "execution_count": 35,
   "metadata": {},
   "outputs": [],
   "source": [
    "def run(run_dir, hparams):\n",
    "  with tf.summary.create_file_writer(run_dir).as_default():\n",
    "    hp.hparams(hparams)  # record the values used in this trial\n",
    "    accuracy = train_test_model(hparams)\n",
    "    tf.summary.scalar(METRIC_ACCURACY, accuracy, step=1)"
   ]
  },
  {
   "cell_type": "code",
   "execution_count": 36,
   "metadata": {},
   "outputs": [
    {
     "name": "stdout",
     "output_type": "stream",
     "text": [
      "--- Starting trial: run-0\n",
      "{'num_units': 16, 'dropout': 0.1, 'learning_rate': 0.0001, 'optimizer': 'adam'}\n",
      "1875/1875 [==============================] - 1s 433us/step - loss: 0.7158 - accuracy: 0.7528\n",
      "313/313 [==============================] - 0s 308us/step - loss: 0.5139 - accuracy: 0.8225\n",
      "--- Starting trial: run-1\n",
      "{'num_units': 16, 'dropout': 0.1, 'learning_rate': 0.0005, 'optimizer': 'adam'}\n",
      "1875/1875 [==============================] - 1s 431us/step - loss: 0.7202 - accuracy: 0.7507\n",
      "313/313 [==============================] - 0s 305us/step - loss: 0.5056 - accuracy: 0.8222\n",
      "--- Starting trial: run-2\n",
      "{'num_units': 16, 'dropout': 0.1, 'learning_rate': 0.001, 'optimizer': 'adam'}\n",
      "1875/1875 [==============================] - 1s 436us/step - loss: 0.6742 - accuracy: 0.7650\n",
      "313/313 [==============================] - 0s 309us/step - loss: 0.4822 - accuracy: 0.8294\n",
      "--- Starting trial: run-3\n",
      "{'num_units': 16, 'dropout': 0.1, 'learning_rate': 0.0001, 'optimizer': 'sgd'}\n",
      "1875/1875 [==============================] - 1s 400us/step - loss: 1.0204 - accuracy: 0.6465\n",
      "313/313 [==============================] - 0s 324us/step - loss: 0.6752 - accuracy: 0.7644\n",
      "--- Starting trial: run-4\n",
      "{'num_units': 16, 'dropout': 0.1, 'learning_rate': 0.0005, 'optimizer': 'sgd'}\n",
      "1875/1875 [==============================] - 1s 364us/step - loss: 0.9875 - accuracy: 0.6676\n",
      "313/313 [==============================] - 0s 317us/step - loss: 0.6544 - accuracy: 0.7797\n",
      "--- Starting trial: run-5\n",
      "{'num_units': 16, 'dropout': 0.1, 'learning_rate': 0.001, 'optimizer': 'sgd'}\n",
      "1875/1875 [==============================] - 1s 363us/step - loss: 1.0264 - accuracy: 0.6553\n",
      "313/313 [==============================] - 0s 299us/step - loss: 0.6682 - accuracy: 0.7723\n",
      "--- Starting trial: run-6\n",
      "{'num_units': 16, 'dropout': 0.2, 'learning_rate': 0.0001, 'optimizer': 'adam'}\n",
      "1875/1875 [==============================] - 1s 440us/step - loss: 0.8048 - accuracy: 0.7161\n",
      "313/313 [==============================] - 0s 314us/step - loss: 0.5330 - accuracy: 0.8148\n",
      "--- Starting trial: run-7\n",
      "{'num_units': 16, 'dropout': 0.2, 'learning_rate': 0.0005, 'optimizer': 'adam'}\n",
      "1875/1875 [==============================] - 1s 431us/step - loss: 0.8015 - accuracy: 0.7132\n",
      "313/313 [==============================] - 0s 473us/step - loss: 0.5295 - accuracy: 0.8110\n",
      "--- Starting trial: run-8\n",
      "{'num_units': 16, 'dropout': 0.2, 'learning_rate': 0.001, 'optimizer': 'adam'}\n",
      "1875/1875 [==============================] - 1s 398us/step - loss: 0.8143 - accuracy: 0.7123\n",
      "313/313 [==============================] - 0s 290us/step - loss: 0.5185 - accuracy: 0.8187\n",
      "--- Starting trial: run-9\n",
      "{'num_units': 16, 'dropout': 0.2, 'learning_rate': 0.0001, 'optimizer': 'sgd'}\n",
      "1875/1875 [==============================] - 1s 323us/step - loss: 1.0892 - accuracy: 0.6220\n",
      "313/313 [==============================] - 0s 377us/step - loss: 0.6831 - accuracy: 0.7701\n",
      "--- Starting trial: run-10\n",
      "{'num_units': 16, 'dropout': 0.2, 'learning_rate': 0.0005, 'optimizer': 'sgd'}\n",
      "1875/1875 [==============================] - 1s 324us/step - loss: 1.0890 - accuracy: 0.6315\n",
      "313/313 [==============================] - 0s 366us/step - loss: 0.6605 - accuracy: 0.7811\n",
      "--- Starting trial: run-11\n",
      "{'num_units': 16, 'dropout': 0.2, 'learning_rate': 0.001, 'optimizer': 'sgd'}\n",
      "1875/1875 [==============================] - 1s 366us/step - loss: 1.1105 - accuracy: 0.6148\n",
      "313/313 [==============================] - 0s 394us/step - loss: 0.6881 - accuracy: 0.7750\n",
      "--- Starting trial: run-12\n",
      "{'num_units': 32, 'dropout': 0.1, 'learning_rate': 0.0001, 'optimizer': 'adam'}\n",
      "1875/1875 [==============================] - 1s 697us/step - loss: 0.5831 - accuracy: 0.7976\n",
      "313/313 [==============================] - 0s 340us/step - loss: 0.4576 - accuracy: 0.8372\n",
      "--- Starting trial: run-13\n",
      "{'num_units': 32, 'dropout': 0.1, 'learning_rate': 0.0005, 'optimizer': 'adam'}\n",
      "1875/1875 [==============================] - 1s 474us/step - loss: 0.5955 - accuracy: 0.7928\n",
      "313/313 [==============================] - 0s 323us/step - loss: 0.4797 - accuracy: 0.8312\n",
      "--- Starting trial: run-14\n",
      "{'num_units': 32, 'dropout': 0.1, 'learning_rate': 0.001, 'optimizer': 'adam'}\n",
      "1875/1875 [==============================] - 1s 469us/step - loss: 0.6024 - accuracy: 0.7922\n",
      "313/313 [==============================] - 0s 316us/step - loss: 0.4717 - accuracy: 0.8316\n",
      "--- Starting trial: run-15\n",
      "{'num_units': 32, 'dropout': 0.1, 'learning_rate': 0.0001, 'optimizer': 'sgd'}\n",
      "1875/1875 [==============================] - 1s 420us/step - loss: 0.8628 - accuracy: 0.7095\n",
      "313/313 [==============================] - 0s 408us/step - loss: 0.6145 - accuracy: 0.7931\n",
      "--- Starting trial: run-16\n",
      "{'num_units': 32, 'dropout': 0.1, 'learning_rate': 0.0005, 'optimizer': 'sgd'}\n",
      "1875/1875 [==============================] - 1s 405us/step - loss: 0.8755 - accuracy: 0.7067\n",
      "313/313 [==============================] - 0s 315us/step - loss: 0.6109 - accuracy: 0.7936\n",
      "--- Starting trial: run-17\n",
      "{'num_units': 32, 'dropout': 0.1, 'learning_rate': 0.001, 'optimizer': 'sgd'}\n",
      "1875/1875 [==============================] - 1s 444us/step - loss: 0.9143 - accuracy: 0.6862\n",
      "313/313 [==============================] - 0s 317us/step - loss: 0.6408 - accuracy: 0.7756\n",
      "--- Starting trial: run-18\n",
      "{'num_units': 32, 'dropout': 0.2, 'learning_rate': 0.0001, 'optimizer': 'adam'}\n",
      "1875/1875 [==============================] - 1s 468us/step - loss: 0.6624 - accuracy: 0.7717\n",
      "313/313 [==============================] - 0s 319us/step - loss: 0.4820 - accuracy: 0.8291\n",
      "--- Starting trial: run-19\n",
      "{'num_units': 32, 'dropout': 0.2, 'learning_rate': 0.0005, 'optimizer': 'adam'}\n",
      "1875/1875 [==============================] - 1s 465us/step - loss: 0.6440 - accuracy: 0.7739\n",
      "313/313 [==============================] - 0s 335us/step - loss: 0.4557 - accuracy: 0.8359\n",
      "--- Starting trial: run-20\n",
      "{'num_units': 32, 'dropout': 0.2, 'learning_rate': 0.001, 'optimizer': 'adam'}\n",
      "1875/1875 [==============================] - 1s 490us/step - loss: 0.6441 - accuracy: 0.7749\n",
      "313/313 [==============================] - 0s 330us/step - loss: 0.4839 - accuracy: 0.8286\n",
      "--- Starting trial: run-21\n",
      "{'num_units': 32, 'dropout': 0.2, 'learning_rate': 0.0001, 'optimizer': 'sgd'}\n",
      "1875/1875 [==============================] - 1s 401us/step - loss: 0.9440 - accuracy: 0.6725\n",
      "313/313 [==============================] - 0s 422us/step - loss: 0.6470 - accuracy: 0.7806\n",
      "--- Starting trial: run-22\n",
      "{'num_units': 32, 'dropout': 0.2, 'learning_rate': 0.0005, 'optimizer': 'sgd'}\n",
      "1875/1875 [==============================] - 1s 456us/step - loss: 0.9735 - accuracy: 0.6715\n",
      "313/313 [==============================] - 0s 326us/step - loss: 0.6440 - accuracy: 0.7792\n",
      "--- Starting trial: run-23\n",
      "{'num_units': 32, 'dropout': 0.2, 'learning_rate': 0.001, 'optimizer': 'sgd'}\n",
      "1875/1875 [==============================] - 1s 422us/step - loss: 0.9540 - accuracy: 0.6744\n",
      "313/313 [==============================] - 0s 344us/step - loss: 0.6331 - accuracy: 0.7830\n"
     ]
    }
   ],
   "source": [
    "session_num = 0\n",
    "\n",
    "for num_units in HP_NUM_UNITS.domain.values:\n",
    "  for dropout_rate in (HP_DROPOUT.domain.min_value, HP_DROPOUT.domain.max_value):\n",
    "    for optimizer in HP_OPTIMIZER.domain.values:\n",
    "      for learning_rate in HP_LEARNING_RATE.domain.values:\n",
    "        hparams = {\n",
    "            HP_NUM_UNITS: num_units,\n",
    "            HP_DROPOUT: dropout_rate,\n",
    "            HP_LEARNING_RATE: learning_rate,\n",
    "            HP_OPTIMIZER: optimizer,\n",
    "        }\n",
    "        run_name = \"run-%d\" % session_num\n",
    "        print('--- Starting trial: %s' % run_name)\n",
    "        print({h.name: hparams[h] for h in hparams})\n",
    "        run('logs/hparam_tuning/' + run_name, hparams)\n",
    "        session_num += 1"
   ]
  },
  {
   "cell_type": "code",
   "execution_count": 37,
   "metadata": {},
   "outputs": [
    {
     "data": {
      "text/plain": [
       "Reusing TensorBoard on port 6010 (pid 94041), started 0:43:31 ago. (Use '!kill 94041' to kill it.)"
      ]
     },
     "metadata": {},
     "output_type": "display_data"
    },
    {
     "data": {
      "text/html": [
       "\n",
       "      <iframe id=\"tensorboard-frame-8d81e1ed1edb3d60\" width=\"100%\" height=\"800\" frameborder=\"0\">\n",
       "      </iframe>\n",
       "      <script>\n",
       "        (function() {\n",
       "          const frame = document.getElementById(\"tensorboard-frame-8d81e1ed1edb3d60\");\n",
       "          const url = new URL(\"http://localhost\");\n",
       "          const port = 6010;\n",
       "          if (port) {\n",
       "            url.port = port;\n",
       "          }\n",
       "          frame.src = url;\n",
       "        })();\n",
       "      </script>\n",
       "    "
      ],
      "text/plain": [
       "<IPython.core.display.HTML object>"
      ]
     },
     "metadata": {},
     "output_type": "display_data"
    }
   ],
   "source": [
    "%tensorboard --logdir logs/hparam_tuning"
   ]
  }
 ],
 "metadata": {
  "kernelspec": {
   "display_name": "Python 3.10.5 ('mlsync')",
   "language": "python",
   "name": "python3"
  },
  "language_info": {
   "codemirror_mode": {
    "name": "ipython",
    "version": 3
   },
   "file_extension": ".py",
   "mimetype": "text/x-python",
   "name": "python",
   "nbconvert_exporter": "python",
   "pygments_lexer": "ipython3",
   "version": "3.10.5"
  },
  "orig_nbformat": 4,
  "vscode": {
   "interpreter": {
    "hash": "df9508d5b379a1471c39880a4252db6220daabcc4e74e0e7cf82730962a37217"
   }
  }
 },
 "nbformat": 4,
 "nbformat_minor": 2
}
